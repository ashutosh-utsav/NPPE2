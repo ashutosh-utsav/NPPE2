{
 "cells": [
  {
   "cell_type": "code",
   "execution_count": 11,
   "id": "dbbba166",
   "metadata": {},
   "outputs": [],
   "source": [
    "!pip install --quiet \"transformers>=4.38\" \"peft>=0.10\" \"accelerate>=0.28\" \"torch>=2.2\" \"datasets\" \"evaluate\" \"librosa\""
   ]
  },
  {
   "cell_type": "code",
   "execution_count": null,
   "id": "d7df161b",
   "metadata": {},
   "outputs": [
    {
     "name": "stdout",
     "output_type": "stream",
     "text": [
      "Loading fine-tuned model from: results/whisper-small-uyghur-finetuned-peft/checkpoint-2000\n",
      " Fine-tuned model loaded and merged.\n"
     ]
    },
    {
     "name": "stderr",
     "output_type": "stream",
     "text": [
      "Device set to use mps\n"
     ]
    },
    {
     "name": "stdout",
     "output_type": "stream",
     "text": [
      " New inference pipeline created for Mac.\n",
      "Starting BATCHED transcription...\n"
     ]
    }
   ],
   "source": [
    "\n",
    "import torch\n",
    "import pandas as pd\n",
    "from transformers import pipeline, AutoModelForSpeechSeq2Seq, WhisperProcessor\n",
    "from peft import PeftModel\n",
    "import os\n",
    "\n",
    "\n",
    "peft_model_path = \"results/whisper-small-uyghur-finetuned-peft/checkpoint-2000\" \n",
    "model_id = \"ixxan/whisper-small-uyghur-common-voice\"\n",
    "\n",
    "print(f\"Loading fine-tuned model from: {peft_model_path}\")\n",
    "\n",
    "\n",
    "base_model = AutoModelForSpeechSeq2Seq.from_pretrained(model_id)\n",
    "model = PeftModel.from_pretrained(base_model, peft_model_path)\n",
    "model = model.merge_and_unload()\n",
    "print(\" Fine-tuned model loaded and merged.\")\n",
    "\n",
    "\n",
    "processor = WhisperProcessor.from_pretrained(model_id, task=\"transcribe\")\n",
    "\n",
    "pipe = pipeline(\n",
    "    \"automatic-speech-recognition\",\n",
    "    model=model,\n",
    "    tokenizer=processor.tokenizer,\n",
    "    feature_extractor=processor.feature_extractor,\n",
    "    torch_dtype=torch.float16,\n",
    "    device=\"mps\", \n",
    ")\n",
    "print(\" New inference pipeline created for Mac.\")\n",
    "\n",
    "\n",
    "print(\"Starting BATCHED transcription...\")\n",
    "BASE_PATH = \"the-uyghur-voice-cup/\"\n",
    "test_df = pd.read_csv(os.path.join(BASE_PATH, \"test.csv\"))\n",
    "audio_paths = [os.path.join(BASE_PATH, filepath) for filepath in test_df['filepath']]\n",
    "\n",
    "transcriptions = pipe(\n",
    "    audio_paths,\n",
    "    batch_size=2,\n",
    "    generate_kwargs={\"task\": \"transcribe\"}\n",
    ")\n",
    "final_texts = [result['text'] for result in transcriptions]\n",
    "submission_df = pd.DataFrame({\n",
    "    \"ID\": test_df['ID'],\n",
    "    \"transcription\": final_texts\n",
    "})\n",
    "submission_df.to_csv(\"submission.csv\", index=False)\n",
    "print(\"\\n New submission file 'submission.csv' has been created!\")"
   ]
  },
  {
   "cell_type": "code",
   "execution_count": null,
   "id": "477b2984",
   "metadata": {},
   "outputs": [],
   "source": []
  }
 ],
 "metadata": {
  "kernelspec": {
   "display_name": "nppe2 (3.12.10)",
   "language": "python",
   "name": "python3"
  },
  "language_info": {
   "codemirror_mode": {
    "name": "ipython",
    "version": 3
   },
   "file_extension": ".py",
   "mimetype": "text/x-python",
   "name": "python",
   "nbconvert_exporter": "python",
   "pygments_lexer": "ipython3",
   "version": "3.12.10"
  }
 },
 "nbformat": 4,
 "nbformat_minor": 5
}
